{
 "cells": [
  {
   "cell_type": "markdown",
   "id": "fe8f755a",
   "metadata": {},
   "source": [
    "# final project "
   ]
  },
  {
   "cell_type": "markdown",
   "id": "20612b02",
   "metadata": {},
   "source": [
    "This project is a chatbot that I made similar to A3. My chatbot is an ER intake survey that collects information about patients to add to their file and give them predictions for where they will be sent to in the hospital. "
   ]
  },
  {
   "cell_type": "code",
   "execution_count": 1,
   "id": "b08bbed6",
   "metadata": {},
   "outputs": [],
   "source": [
    "import random"
   ]
  },
  {
   "cell_type": "code",
   "execution_count": 2,
   "id": "9ec5e93b",
   "metadata": {},
   "outputs": [],
   "source": [
    "GREET_INPUTS = ('hi', 'hello') \n",
    "GREET_RESPONSES = ('hi', 'hey', 'hope you are well' , 'glad you found your way here') "
   ]
  },
  {
   "cell_type": "code",
   "execution_count": 3,
   "id": "fa067492",
   "metadata": {},
   "outputs": [],
   "source": [
    "def greet(sentence): \n",
    "    for word in sentence.split(): \n",
    "        if word.lower() in GREET_INPUTS: \n",
    "            return random.choice(GREET_RESPONSES)"
   ]
  },
  {
   "cell_type": "code",
   "execution_count": 31,
   "id": "7ebd9292",
   "metadata": {},
   "outputs": [],
   "source": [
    "def BMI_index(weight, height): \n",
    "    answer = (int(weight) / (int(height)**2))\n",
    "    \"\"\"function to compute the BMI based on inputted height and weight\"\"\"\n",
    "    return str(answer)"
   ]
  },
  {
   "cell_type": "code",
   "execution_count": 28,
   "id": "ce8b7b29",
   "metadata": {},
   "outputs": [],
   "source": [
    "def have_a_medical_chat():\n",
    "    \"\"\"Main function to run our chatbot.\"\"\"\n",
    "    \n",
    "    chat = True\n",
    "    \"\"\"while the chat is true the function continues\"\"\"\n",
    "    while chat:\n",
    "        msg_greet = input('Say hello / hi to start')\n",
    "        print(greet(msg_greet))\n",
    "        \"\"\"continuously chat checks if the chat is ongoing after every loop\"\"\"    \n",
    "        msg_name = input('What is your name? :\\t')\n",
    "        \"\"\"when they input their name it gets assigned to the function msg_name\"\"\"\n",
    "        msg_sex = input('What is your sex? (M or F) :\\t')\n",
    "        out_msg = None\n",
    "        \n",
    "        gender = True\n",
    "        if (msg_sex  == \"F\"):\n",
    "            sex = True\n",
    "        elif (msg_sex  == \"M\"):\n",
    "            sex = False\n",
    "        else:\n",
    "            print('You did not enter in a proper input')\n",
    "            \"\"\"checks that user inputs a gender, if user doesnt input M or F output message error\"\"\"     \n",
    "        \n",
    "        msg_age = input('How old are you? :\\t')\n",
    "        age = 0\n",
    "        if (int(msg_age) < 18): \n",
    "            print('You will be sent to a pediactric floor')\n",
    "            out_msg = 'quit'\n",
    "            break\n",
    "            \"\"\"This loop asks receives an int input and determines if the age is under 18 breaks out of loop\"\"\"     \n",
    "        \n",
    "        \n",
    "        msg_height = input('What height are you in inches? :\\t')\n",
    "        msg_weight = input('What weight are you in pounds? :\\t')\n",
    "    \n",
    "        print('Your BMI is :' + BMI_index(msg_weight, msg_height))\n",
    "        \"\"\"prints the BMI function with the inputs\"\"\"\n",
    "        \n",
    "        # we are going to diagnose the patient\n",
    "        \n",
    "        msg_cause = input('Please enter a number for psychiatric (1), trauma (2), or other (3) :\\t')\n",
    "        \n",
    "        if (int(msg_cause) == 1):\n",
    "            print('You will be receieved by the psych ward shortly')\n",
    "        elif (int(msg_cause) == 2):\n",
    "            msg_cause_trauma = input('Is a skin tear (Y/N) :\\t')\n",
    "            if (msg_cause_trauma == 'Y' or msg_cause_trauma == 'Yes'):\n",
    "                print('You will be sent to plastics')\n",
    "            else:\n",
    "                print('will be sent to dermatology')\n",
    "        else:\n",
    "            print('you will be sent to urgent care')\n",
    "            \"\"\"if user inputs a certain int it breaks out of loop and prints a specifc message\"\"\"\n",
    "        out_msg = 'quit'\n",
    "\n",
    "        print('OUTPUT:', out_msg)\n",
    "        break"
   ]
  },
  {
   "cell_type": "code",
   "execution_count": 29,
   "id": "7951aa80",
   "metadata": {},
   "outputs": [],
   "source": [
    "def end_chat(input_list): \n",
    "    if 'quit' in input_list: \n",
    "        output = True \n",
    "    else: \n",
    "        output = False \n",
    "    return output "
   ]
  },
  {
   "cell_type": "code",
   "execution_count": 30,
   "id": "8315c11c",
   "metadata": {},
   "outputs": [
    {
     "name": "stdout",
     "output_type": "stream",
     "text": [
      "Say hello / hi to starthi\n",
      "hi\n",
      "What is your name? :\tzohar\n",
      "What is your sex? (M or F) :\tF\n",
      "How old are you? :\t19\n",
      "What height are you in inches? :\t60\n",
      "What weight are you in pounds? :\t100\n",
      "Your BMI is :0.027777777777777776\n",
      "Please enter a number for psychiatric (1), trauma (2), or other (3) :\t2\n",
      "Is a skin tear (Y/N) :\tN\n",
      "will be sent to dermatology\n",
      "OUTPUT: quit\n"
     ]
    }
   ],
   "source": [
    "have_a_medical_chat() "
   ]
  },
  {
   "cell_type": "markdown",
   "id": "f03a83af",
   "metadata": {},
   "source": [
    "I have never taken any sort of coding class every before so this class has been all new info \n",
    "from the first day. Just writing a line of code has been hard for me\n",
    "but I enjoy it. I took this class not for a major requirement but for my own enrichment because I wanted to develop \n",
    "a new skill and give myself a holistic education. "
   ]
  },
  {
   "cell_type": "code",
   "execution_count": null,
   "id": "6b98af96",
   "metadata": {},
   "outputs": [],
   "source": []
  }
 ],
 "metadata": {
  "kernelspec": {
   "display_name": "Python 3 (clean)",
   "language": "python",
   "name": "python3_clean"
  },
  "language_info": {
   "codemirror_mode": {
    "name": "ipython",
    "version": 3
   },
   "file_extension": ".py",
   "mimetype": "text/x-python",
   "name": "python",
   "nbconvert_exporter": "python",
   "pygments_lexer": "ipython3",
   "version": "3.9.5"
  }
 },
 "nbformat": 4,
 "nbformat_minor": 5
}
